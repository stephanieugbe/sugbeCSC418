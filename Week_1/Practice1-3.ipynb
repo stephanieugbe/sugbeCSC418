{
 "cells": [
  {
   "cell_type": "code",
   "execution_count": 1,
   "id": "331baf58-bfd8-4e0f-8185-4139088432c5",
   "metadata": {},
   "outputs": [],
   "source": [
    "import cv2"
   ]
  },
  {
   "cell_type": "code",
   "execution_count": 3,
   "id": "60abd82d-b3fb-4ee6-8f09-a4f868a88b35",
   "metadata": {},
   "outputs": [
    {
     "name": "stdout",
     "output_type": "stream",
     "text": [
      "4.10.0\n"
     ]
    }
   ],
   "source": [
    "print(cv2.__version__)"
   ]
  },
  {
   "cell_type": "markdown",
   "id": "52358729-4e7d-4c3f-b56a-f1e62f9caa45",
   "metadata": {},
   "source": [
    "### Practice 1"
   ]
  },
  {
   "cell_type": "code",
   "execution_count": null,
   "id": "2d0d43ef-cf90-46df-b656-cabbd24a7f57",
   "metadata": {},
   "outputs": [],
   "source": [
    "import cv2\n",
    "\n",
    "#path\n",
    "path = 'img/randpand.jpg'\n",
    "\n",
    "#reading image using imread function\n",
    "img = cv2.imread(path)\n",
    "\n",
    "#window name to be displayed\n",
    "window_name = 'Display Steffs Image'\n",
    "\n",
    "#display image\n",
    "cv2.imshow(window_name, img)\n",
    "\n",
    "#hold the window\n",
    "cv2.waitKey(0)\n",
    "\n",
    "#remove the created gui window from screen and memory\n",
    "cv2.destroyAllWindows() "
   ]
  },
  {
   "cell_type": "markdown",
   "id": "3c5f51f5-fd0d-440b-bac7-5e3fc6d100b8",
   "metadata": {},
   "source": [
    "### Practice 2"
   ]
  },
  {
   "cell_type": "code",
   "execution_count": null,
   "id": "5dd0d7e6-2423-4049-9a3d-c660103df839",
   "metadata": {},
   "outputs": [],
   "source": [
    "import cv2\n",
    "\n",
    "#path\n",
    "path = 'img/randpand.jpg'\n",
    "\n",
    "#reading in grayscale\n",
    "img = cv2.imread(path, 0)\n",
    "\n",
    "#window name\n",
    "window_name = 'Display Steffs Image'\n",
    "\n",
    "#display image\n",
    "cv2.imshow(window_name, img)\n",
    "\n",
    "#hold the window\n",
    "cv2.waitKey(0)\n",
    "\n",
    "#remove the created gui window from screen and memory\n",
    "cv2.destroyAllWindows() "
   ]
  },
  {
   "cell_type": "markdown",
   "id": "e3120cb7-97ac-47c5-bc5b-96f44493849b",
   "metadata": {},
   "source": [
    "### Practice 3"
   ]
  },
  {
   "cell_type": "code",
   "execution_count": 2,
   "id": "d5f1f65e-10ad-45fa-972b-6d08f296d468",
   "metadata": {},
   "outputs": [
    {
     "name": "stdout",
     "output_type": "stream",
     "text": [
      "Before saving image:\n",
      "['randpand.jpg']\n",
      "After saving Image:\n",
      "['randpand.jpg', 'steffsgrayscaleImage.jpg']\n",
      "Successfully saved\n"
     ]
    }
   ],
   "source": [
    "import cv2\n",
    "import os\n",
    "\n",
    "#path\n",
    "image_path = 'img/randpand.jpg'\n",
    "\n",
    "#directory\n",
    "directory = r'C:\\Users\\Stephanie Ugbe\\sugbeCSC418\\Week_1\\img'\n",
    "\n",
    "#reading in grayscale\n",
    "img = cv2.imread(image_path, 0)\n",
    "\n",
    "#change the current directory to specified directory\n",
    "os.chdir(directory)\n",
    "\n",
    "#list files and directories\n",
    "print(\"Before saving image:\")\n",
    "print(os.listdir(directory))\n",
    "\n",
    "#filename\n",
    "filename = 'steffsgrayscaleImage.jpg'\n",
    "\n",
    "#using cv2.imwrite method save the image\n",
    "cv2.imwrite(filename, img)\n",
    "\n",
    "#list files and directories\n",
    "print(\"After saving Image:\")\n",
    "print(os.listdir(directory))\n",
    "\n",
    "print(\"Successfully saved\")"
   ]
  },
  {
   "cell_type": "code",
   "execution_count": null,
   "id": "7ed46d57-d552-4b1e-befe-b63beac8f852",
   "metadata": {},
   "outputs": [],
   "source": []
  }
 ],
 "metadata": {
  "kernelspec": {
   "display_name": "Python 3 (ipykernel)",
   "language": "python",
   "name": "python3"
  },
  "language_info": {
   "codemirror_mode": {
    "name": "ipython",
    "version": 3
   },
   "file_extension": ".py",
   "mimetype": "text/x-python",
   "name": "python",
   "nbconvert_exporter": "python",
   "pygments_lexer": "ipython3",
   "version": "3.12.7"
  }
 },
 "nbformat": 4,
 "nbformat_minor": 5
}
